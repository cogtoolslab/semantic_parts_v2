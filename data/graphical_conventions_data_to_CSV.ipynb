{
 "cells": [
  {
   "cell_type": "code",
   "execution_count": 12,
   "metadata": {},
   "outputs": [],
   "source": [
    "import numpy as np\n",
    "import pandas as pd\n",
    "import os, sys"
   ]
  },
  {
   "cell_type": "code",
   "execution_count": 17,
   "metadata": {},
   "outputs": [],
   "source": [
    "### set up paths, etc. \n",
    "path_to_stim = os.getcwd()\n",
    "\n",
    "## load in run5_submitButton data\n",
    "M = pd.read_csv(os.path.join(path_to_stim,'graphical_conventions_group_data_run5_submitButton.csv'))\n",
    "\n",
    "## TODO: add several columns to dataframe above: 'target_url', 'basic', 'subset', 'cluster','width','height' column based on dictionaries here: https://github.com/cogtoolslab/semantic_mapping/issues/1\n",
    "shapenet_30afd2ef2ed30238aa3d0a2f00b54836 = {'filename': \"30afd2ef2ed30238aa3d0a2f00b54836.png\" , 'basic': \"dining\", 'subordinate': \"dining_00\" , 'subset':\"A\", 'cluster': 1, 'object': 0, 'pose': 35, 'target_url': \"https://s3.amazonaws.com/shapenet-graphical-conventions/30afd2ef2ed30238aa3d0a2f00b54836.png\",'width': 256, 'height': 256};\n",
    "shapenet_30dc9d9cfbc01e19950c1f85d919ebc2 = {'filename': \"30dc9d9cfbc01e19950c1f85d919ebc2.png\" , 'basic': \"dining\", 'subordinate': \"dining_01\" , 'subset':\"A\", 'cluster': 1, 'object': 1, 'pose': 35, 'target_url': \"https://s3.amazonaws.com/shapenet-graphical-conventions/30dc9d9cfbc01e19950c1f85d919ebc2.png\",'width': 256, 'height': 256};\n",
    "shapenet_4c1777173111f2e380a88936375f2ef4 = {'filename': \"4c1777173111f2e380a88936375f2ef4.png\" , 'basic': \"dining\", 'subordinate': \"dining_02\" , 'subset':\"B\", 'cluster': 1, 'object': 2, 'pose': 35, 'target_url': \"https://s3.amazonaws.com/shapenet-graphical-conventions/4c1777173111f2e380a88936375f2ef4.png\",'width': 256, 'height': 256};\n",
    "shapenet_3466b6ecd040e252c215f685ba622927 = {'filename': \"3466b6ecd040e252c215f685ba622927.png\" , 'basic': \"dining\", 'subordinate': \"dining_03\" , 'subset':\"B\", 'cluster': 1, 'object': 3, 'pose': 35, 'target_url': \"https://s3.amazonaws.com/shapenet-graphical-conventions/3466b6ecd040e252c215f685ba622927.png\",'width': 256, 'height': 256};\n",
    "shapenet_38f87e02e850d3bd1d5ccc40b510e4bd = {'filename': \"38f87e02e850d3bd1d5ccc40b510e4bd.png\" , 'basic': \"dining\", 'subordinate': \"dining_04\" , 'subset':\"B\", 'cluster': 1, 'object': 4, 'pose': 35, 'target_url': \"https://s3.amazonaws.com/shapenet-graphical-conventions/38f87e02e850d3bd1d5ccc40b510e4bd.png\",'width': 256, 'height': 256};\n",
    "shapenet_3cf6db91f872d26c222659d33fd79709 = {'filename': \"3cf6db91f872d26c222659d33fd79709.png\" , 'basic': \"dining\", 'subordinate': \"dining_05\" , 'subset':\"B\", 'cluster': 1, 'object': 5, 'pose': 35, 'target_url': \"https://s3.amazonaws.com/shapenet-graphical-conventions/3cf6db91f872d26c222659d33fd79709.png\",'width': 256, 'height': 256};\n",
    "shapenet_3d7ebe5de86294b3f6bcd046624c43c9 = {'filename': \"3d7ebe5de86294b3f6bcd046624c43c9.png\" , 'basic': \"dining\", 'subordinate': \"dining_06\" , 'subset':\"A\", 'cluster': 1, 'object': 6, 'pose': 35, 'target_url': \"https://s3.amazonaws.com/shapenet-graphical-conventions/3d7ebe5de86294b3f6bcd046624c43c9.png\",'width': 256, 'height': 256};\n",
    "shapenet_56262eebe592b085d319c38340319ae4 = {'filename': \"56262eebe592b085d319c38340319ae4.png\" , 'basic': \"dining\", 'subordinate': \"dining_07\" , 'subset':\"A\", 'cluster': 1, 'object': 7, 'pose': 35, 'target_url': \"https://s3.amazonaws.com/shapenet-graphical-conventions/56262eebe592b085d319c38340319ae4.png\",'width': 256, 'height': 256};\n",
    "shapenet_1d1641362ad5a34ac3bd24f986301745 = {'filename': \"1d1641362ad5a34ac3bd24f986301745.png\" , 'basic': \"waiting\", 'subordinate': \"waiting_00\" , 'subset':\"A\", 'cluster': 3, 'object': 0, 'pose': 35, 'target_url': \"https://s3.amazonaws.com/shapenet-graphical-conventions/1d1641362ad5a34ac3bd24f986301745.png\",'width': 256, 'height': 256};\n",
    "shapenet_1da9942b2ab7082b2ba1fdc12ecb5c9e = {'filename': \"1da9942b2ab7082b2ba1fdc12ecb5c9e.png\" , 'basic': \"waiting\", 'subordinate': \"waiting_01\" , 'subset':\"A\", 'cluster': 3, 'object': 1, 'pose': 35, 'target_url': \"https://s3.amazonaws.com/shapenet-graphical-conventions/1da9942b2ab7082b2ba1fdc12ecb5c9e.png\",'width': 256, 'height': 256};\n",
    "shapenet_2448d9aeda5bb9b0f4b6538438a0b930 = {'filename': \"2448d9aeda5bb9b0f4b6538438a0b930.png\" , 'basic': \"waiting\", 'subordinate': \"waiting_02\" , 'subset':\"B\", 'cluster': 3, 'object': 2, 'pose': 35, 'target_url': \"https://s3.amazonaws.com/shapenet-graphical-conventions/2448d9aeda5bb9b0f4b6538438a0b930.png\",'width': 256, 'height': 256};\n",
    "shapenet_23b0da45f23e5fb4f4b6538438a0b930 = {'filename': \"23b0da45f23e5fb4f4b6538438a0b930.png\" , 'basic': \"waiting\", 'subordinate': \"waiting_03\" , 'subset':\"B\", 'cluster': 3, 'object': 3, 'pose': 35, 'target_url': \"https://s3.amazonaws.com/shapenet-graphical-conventions/23b0da45f23e5fb4f4b6538438a0b930.png\",'width': 256, 'height': 256};\n",
    "shapenet_2b5953c986dd08f2f91663a74ccd2338 = {'filename': \"2b5953c986dd08f2f91663a74ccd2338.png\" , 'basic': \"waiting\", 'subordinate': \"waiting_04\" , 'subset':\"B\", 'cluster': 3, 'object': 4, 'pose': 35, 'target_url': \"https://s3.amazonaws.com/shapenet-graphical-conventions/2b5953c986dd08f2f91663a74ccd2338.png\",'width': 256, 'height': 256};\n",
    "shapenet_2e291f35746e94fa62762c7262e78952 = {'filename': \"2e291f35746e94fa62762c7262e78952.png\" , 'basic': \"waiting\", 'subordinate': \"waiting_05\" , 'subset':\"B\", 'cluster': 3, 'object': 5, 'pose': 35, 'target_url': \"https://s3.amazonaws.com/shapenet-graphical-conventions/2e291f35746e94fa62762c7262e78952.png\",'width': 256, 'height': 256};\n",
    "shapenet_2eaab78d6e4c4f2d7b0c85d2effc7e09 = {'filename': \"2eaab78d6e4c4f2d7b0c85d2effc7e09.png\" , 'basic': \"waiting\", 'subordinate': \"waiting_06\" , 'subset':\"A\", 'cluster': 3, 'object': 6, 'pose': 35, 'target_url': \"https://s3.amazonaws.com/shapenet-graphical-conventions/2eaab78d6e4c4f2d7b0c85d2effc7e09.png\",'width': 256, 'height': 256};\n",
    "shapenet_309674bdec2d24d7597976c675750537 = {'filename': \"309674bdec2d24d7597976c675750537.png\" , 'basic': \"waiting\", 'subordinate': \"waiting_07\" , 'subset':\"A\", 'cluster': 3, 'object': 7, 'pose': 35, 'target_url': \"https://s3.amazonaws.com/shapenet-graphical-conventions/309674bdec2d24d7597976c675750537.png\",'width': 256, 'height': 256};\n",
    "## subset single example gameID and repeated object (one that we have 8 unique trialNums associated with), and \n",
    "## write this out using `.to_json()` to mock up single trial prototype\n",
    "get_url = {}\n",
    "l = [shapenet_30afd2ef2ed30238aa3d0a2f00b54836,\\\n",
    "    shapenet_30dc9d9cfbc01e19950c1f85d919ebc2,\\\n",
    "    shapenet_4c1777173111f2e380a88936375f2ef4,\\\n",
    "    shapenet_3466b6ecd040e252c215f685ba622927,\\\n",
    "    shapenet_38f87e02e850d3bd1d5ccc40b510e4bd,\\\n",
    "    shapenet_3cf6db91f872d26c222659d33fd79709,\\\n",
    "    shapenet_3d7ebe5de86294b3f6bcd046624c43c9,\\\n",
    "    shapenet_56262eebe592b085d319c38340319ae4,\\\n",
    "    shapenet_1d1641362ad5a34ac3bd24f986301745,\\\n",
    "    shapenet_1da9942b2ab7082b2ba1fdc12ecb5c9e,\\\n",
    "    shapenet_2448d9aeda5bb9b0f4b6538438a0b930,\\\n",
    "    shapenet_23b0da45f23e5fb4f4b6538438a0b930,\\\n",
    "    shapenet_2b5953c986dd08f2f91663a74ccd2338,\\\n",
    "    shapenet_2e291f35746e94fa62762c7262e78952,\\\n",
    "    shapenet_2eaab78d6e4c4f2d7b0c85d2effc7e09,\\\n",
    "    shapenet_309674bdec2d24d7597976c675750537]\n",
    "\n",
    "for row in l:\n",
    "    get_url[row['subordinate']] = row['target_url']\n",
    "\n",
    "M['target_url'] = M.apply(lambda x: get_url[x['target']], axis = 1)"
   ]
  },
  {
   "cell_type": "code",
   "execution_count": 18,
   "metadata": {},
   "outputs": [
    {
     "name": "stdout",
     "output_type": "stream",
     "text": [
      "Sanity Check Passed!\n"
     ]
    }
   ],
   "source": [
    "#Sanity Check for the data and find the ones that are repeated\n",
    " #dataframe\n",
    "num_freq = {}\n",
    "for i, group in M.groupby(['gameID','target']):\n",
    "    num = len(set(list(group.trialNum)))\n",
    "    if num not in num_freq:\n",
    "        num_freq[num] = 1\n",
    "    else:\n",
    "        num_freq[num] +=1\n",
    "    \n",
    "assert list(num_freq.keys()) == [2,8]\n",
    "print(\"Sanity Check Passed!\")"
   ]
  },
  {
   "cell_type": "code",
   "execution_count": 19,
   "metadata": {},
   "outputs": [],
   "source": [
    "struct = {}\n",
    "M['parts'] = M.apply(lambda x: {\"armrest\":[], \"legs\": [\"front-left leg\", \"front-right leg\", \"back-left leg\", \"back-right leg\"]}, axis = 1)\n",
    "M.to_csv('./graphical_conventions_group_data_run5_submitButton_with_TargetURL.csv')"
   ]
  },
  {
   "cell_type": "code",
   "execution_count": 16,
   "metadata": {},
   "outputs": [
    {
     "data": {
      "text/plain": [
       "gameID                               4071-d4fa2274-0805-41c8-8ebc-819ddc2b5c56\n",
       "trialNum                                                                     1\n",
       "condition                                                              control\n",
       "target                                                              waiting_01\n",
       "category                                                               waiting\n",
       "repetition                                                                   0\n",
       "phase                                                                      pre\n",
       "generalization                                                         between\n",
       "drawDuration                                                            13.586\n",
       "outcome                                                                   True\n",
       "response                                                            waiting_01\n",
       "numStrokes                                                                   6\n",
       "meanPixelIntensity                                                      0.0303\n",
       "numCurvesPerSketch                                                          15\n",
       "numCurvesPerStroke                                                         2.5\n",
       "timedOut                                                                 False\n",
       "png                          iVBORw0KGgoAAAANSUhEUgAAAcIAAAHCCAYAAAB8GMlFAA...\n",
       "svgString                    [u'M94,107c0,-2.90836 -3.18308,-6.36617 -4,-8c...\n",
       "subset                                                                       A\n",
       "low_acc                                                                  False\n",
       "category_subset                                                       waitingA\n",
       "category_subset_condition                                      waitingAcontrol\n",
       "crazy                                                                    False\n",
       "recog_id                                                                    32\n",
       "target_shapenet                               1da9942b2ab7082b2ba1fdc12ecb5c9e\n",
       "distractors                  {'distractor1': 'waiting_06', 'distractor2': '...\n",
       "distractors_shapenet         {'distractor1': '2eaab78d6e4c4f2d7b0c85d2effc7...\n",
       "target_url                   https://s3.amazonaws.com/shapenet-graphical-co...\n",
       "labels                       {'armrest': [], 'legs': ['front-left leg', 'fr...\n",
       "Name: 0, dtype: object"
      ]
     },
     "execution_count": 16,
     "metadata": {},
     "output_type": "execute_result"
    }
   ],
   "source": [
    "M.iloc[0]"
   ]
  },
  {
   "cell_type": "code",
   "execution_count": null,
   "metadata": {},
   "outputs": [],
   "source": []
  }
 ],
 "metadata": {
  "kernelspec": {
   "display_name": "Python 3",
   "language": "python",
   "name": "python3"
  },
  "language_info": {
   "codemirror_mode": {
    "name": "ipython",
    "version": 3
   },
   "file_extension": ".py",
   "mimetype": "text/x-python",
   "name": "python",
   "nbconvert_exporter": "python",
   "pygments_lexer": "ipython3",
   "version": "3.6.5"
  }
 },
 "nbformat": 4,
 "nbformat_minor": 2
}
