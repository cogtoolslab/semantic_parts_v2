{
 "cells": [
  {
   "cell_type": "code",
   "execution_count": 72,
   "metadata": {},
   "outputs": [],
   "source": [
    "from __future__ import division\n",
    "\n",
    "import os\n",
    "import urllib\n",
    "\n",
    "import pymongo as pm\n",
    "import numpy as np\n",
    "import scipy.stats as stats\n",
    "import pandas as pd\n",
    "import json\n",
    "import re\n",
    "import ast\n",
    "\n",
    "from PIL import Image\n",
    "import base64\n",
    "import sys\n",
    "\n",
    "from IPython.display import clear_output\n",
    "\n",
    "## plotting\n",
    "import matplotlib\n",
    "from matplotlib import pylab, mlab, pyplot\n",
    "%matplotlib inline\n",
    "from IPython.core.pylabtools import figsize, getfigs\n",
    "plt = pyplot\n",
    "import seaborn as sns\n",
    "sns.set_context('talk')\n",
    "sns.set_style('white')\n",
    "\n",
    "from collections import Counter\n",
    "\n",
    "## svg rendering \n",
    "# import ast\n",
    "# from svgpathtools import parse_path, wsvg, svg2paths"
   ]
  },
  {
   "cell_type": "code",
   "execution_count": 73,
   "metadata": {},
   "outputs": [],
   "source": [
    "# directory & file hierarchy\n",
    "proj_dir = os.path.abspath('../')\n",
    "stimulus_dir = os.getcwd()\n",
    "analysis_dir = os.path.join(proj_dir,'analysis')\n",
    "results_dir = os.path.join(proj_dir,'results')\n",
    "plot_dir = os.path.join(results_dir,'plots')\n",
    "csv_dir = os.path.join(results_dir,'csv')\n",
    "exp_dir = os.path.abspath(os.path.join(proj_dir,'experiments'))\n",
    "sketch_dir = os.path.abspath(os.path.join(proj_dir,'sketches'))\n",
    "\n",
    "## add helpers to python path\n",
    "if os.path.join(proj_dir,'analysis','python') not in sys.path:\n",
    "    sys.path.append(os.path.join(proj_dir,'analysis','python'))\n",
    "    \n",
    "if not os.path.exists(results_dir):\n",
    "    os.makedirs(results_dir)\n",
    "    \n",
    "if not os.path.exists(plot_dir):\n",
    "    os.makedirs(plot_dir)   \n",
    "    \n",
    "if not os.path.exists(csv_dir):\n",
    "    os.makedirs(csv_dir)       \n",
    "    \n",
    "# Assign variables within imported analysis helpers\n",
    "if sys.version_info[0]>=3:\n",
    "    from importlib import reload"
   ]
  },
  {
   "cell_type": "code",
   "execution_count": 74,
   "metadata": {},
   "outputs": [],
   "source": [
    "### set up paths, etc. \n",
    "path_to_stim = os.getcwd()\n",
    "\n",
    "## load in run5_submitButton data\n",
    "M = pd.read_csv(os.path.join(path_to_stim,'graphical_conventions_group_data_run5_submitButton.csv'))\n",
    "\n",
    "## TODO: add several columns to dataframe above: 'target_url', 'basic', 'subset', 'cluster','width','height' column based on dictionaries here: https://github.com/cogtoolslab/semantic_mapping/issues/1\n",
    "shapenet_30afd2ef2ed30238aa3d0a2f00b54836 = {'filename': \"30afd2ef2ed30238aa3d0a2f00b54836.png\" , 'basic': \"dining\", 'subordinate': \"dining_00\" , 'subset':\"A\", 'cluster': 1, 'object': 0, 'pose': 35, 'target_url': \"https://s3.amazonaws.com/shapenet-graphical-conventions/30afd2ef2ed30238aa3d0a2f00b54836.png\",'width': 256, 'height': 256};\n",
    "shapenet_30dc9d9cfbc01e19950c1f85d919ebc2 = {'filename': \"30dc9d9cfbc01e19950c1f85d919ebc2.png\" , 'basic': \"dining\", 'subordinate': \"dining_01\" , 'subset':\"A\", 'cluster': 1, 'object': 1, 'pose': 35, 'target_url': \"https://s3.amazonaws.com/shapenet-graphical-conventions/30dc9d9cfbc01e19950c1f85d919ebc2.png\",'width': 256, 'height': 256};\n",
    "shapenet_4c1777173111f2e380a88936375f2ef4 = {'filename': \"4c1777173111f2e380a88936375f2ef4.png\" , 'basic': \"dining\", 'subordinate': \"dining_02\" , 'subset':\"B\", 'cluster': 1, 'object': 2, 'pose': 35, 'target_url': \"https://s3.amazonaws.com/shapenet-graphical-conventions/4c1777173111f2e380a88936375f2ef4.png\",'width': 256, 'height': 256};\n",
    "shapenet_3466b6ecd040e252c215f685ba622927 = {'filename': \"3466b6ecd040e252c215f685ba622927.png\" , 'basic': \"dining\", 'subordinate': \"dining_03\" , 'subset':\"B\", 'cluster': 1, 'object': 3, 'pose': 35, 'target_url': \"https://s3.amazonaws.com/shapenet-graphical-conventions/3466b6ecd040e252c215f685ba622927.png\",'width': 256, 'height': 256};\n",
    "shapenet_38f87e02e850d3bd1d5ccc40b510e4bd = {'filename': \"38f87e02e850d3bd1d5ccc40b510e4bd.png\" , 'basic': \"dining\", 'subordinate': \"dining_04\" , 'subset':\"B\", 'cluster': 1, 'object': 4, 'pose': 35, 'target_url': \"https://s3.amazonaws.com/shapenet-graphical-conventions/38f87e02e850d3bd1d5ccc40b510e4bd.png\",'width': 256, 'height': 256};\n",
    "shapenet_3cf6db91f872d26c222659d33fd79709 = {'filename': \"3cf6db91f872d26c222659d33fd79709.png\" , 'basic': \"dining\", 'subordinate': \"dining_05\" , 'subset':\"B\", 'cluster': 1, 'object': 5, 'pose': 35, 'target_url': \"https://s3.amazonaws.com/shapenet-graphical-conventions/3cf6db91f872d26c222659d33fd79709.png\",'width': 256, 'height': 256};\n",
    "shapenet_3d7ebe5de86294b3f6bcd046624c43c9 = {'filename': \"3d7ebe5de86294b3f6bcd046624c43c9.png\" , 'basic': \"dining\", 'subordinate': \"dining_06\" , 'subset':\"A\", 'cluster': 1, 'object': 6, 'pose': 35, 'target_url': \"https://s3.amazonaws.com/shapenet-graphical-conventions/3d7ebe5de86294b3f6bcd046624c43c9.png\",'width': 256, 'height': 256};\n",
    "shapenet_56262eebe592b085d319c38340319ae4 = {'filename': \"56262eebe592b085d319c38340319ae4.png\" , 'basic': \"dining\", 'subordinate': \"dining_07\" , 'subset':\"A\", 'cluster': 1, 'object': 7, 'pose': 35, 'target_url': \"https://s3.amazonaws.com/shapenet-graphical-conventions/56262eebe592b085d319c38340319ae4.png\",'width': 256, 'height': 256};\n",
    "shapenet_1d1641362ad5a34ac3bd24f986301745 = {'filename': \"1d1641362ad5a34ac3bd24f986301745.png\" , 'basic': \"waiting\", 'subordinate': \"waiting_00\" , 'subset':\"A\", 'cluster': 3, 'object': 0, 'pose': 35, 'target_url': \"https://s3.amazonaws.com/shapenet-graphical-conventions/1d1641362ad5a34ac3bd24f986301745.png\",'width': 256, 'height': 256};\n",
    "shapenet_1da9942b2ab7082b2ba1fdc12ecb5c9e = {'filename': \"1da9942b2ab7082b2ba1fdc12ecb5c9e.png\" , 'basic': \"waiting\", 'subordinate': \"waiting_01\" , 'subset':\"A\", 'cluster': 3, 'object': 1, 'pose': 35, 'target_url': \"https://s3.amazonaws.com/shapenet-graphical-conventions/1da9942b2ab7082b2ba1fdc12ecb5c9e.png\",'width': 256, 'height': 256};\n",
    "shapenet_2448d9aeda5bb9b0f4b6538438a0b930 = {'filename': \"2448d9aeda5bb9b0f4b6538438a0b930.png\" , 'basic': \"waiting\", 'subordinate': \"waiting_02\" , 'subset':\"B\", 'cluster': 3, 'object': 2, 'pose': 35, 'target_url': \"https://s3.amazonaws.com/shapenet-graphical-conventions/2448d9aeda5bb9b0f4b6538438a0b930.png\",'width': 256, 'height': 256};\n",
    "shapenet_23b0da45f23e5fb4f4b6538438a0b930 = {'filename': \"23b0da45f23e5fb4f4b6538438a0b930.png\" , 'basic': \"waiting\", 'subordinate': \"waiting_03\" , 'subset':\"B\", 'cluster': 3, 'object': 3, 'pose': 35, 'target_url': \"https://s3.amazonaws.com/shapenet-graphical-conventions/23b0da45f23e5fb4f4b6538438a0b930.png\",'width': 256, 'height': 256};\n",
    "shapenet_2b5953c986dd08f2f91663a74ccd2338 = {'filename': \"2b5953c986dd08f2f91663a74ccd2338.png\" , 'basic': \"waiting\", 'subordinate': \"waiting_04\" , 'subset':\"B\", 'cluster': 3, 'object': 4, 'pose': 35, 'target_url': \"https://s3.amazonaws.com/shapenet-graphical-conventions/2b5953c986dd08f2f91663a74ccd2338.png\",'width': 256, 'height': 256};\n",
    "shapenet_2e291f35746e94fa62762c7262e78952 = {'filename': \"2e291f35746e94fa62762c7262e78952.png\" , 'basic': \"waiting\", 'subordinate': \"waiting_05\" , 'subset':\"B\", 'cluster': 3, 'object': 5, 'pose': 35, 'target_url': \"https://s3.amazonaws.com/shapenet-graphical-conventions/2e291f35746e94fa62762c7262e78952.png\",'width': 256, 'height': 256};\n",
    "shapenet_2eaab78d6e4c4f2d7b0c85d2effc7e09 = {'filename': \"2eaab78d6e4c4f2d7b0c85d2effc7e09.png\" , 'basic': \"waiting\", 'subordinate': \"waiting_06\" , 'subset':\"A\", 'cluster': 3, 'object': 6, 'pose': 35, 'target_url': \"https://s3.amazonaws.com/shapenet-graphical-conventions/2eaab78d6e4c4f2d7b0c85d2effc7e09.png\",'width': 256, 'height': 256};\n",
    "shapenet_309674bdec2d24d7597976c675750537 = {'filename': \"309674bdec2d24d7597976c675750537.png\" , 'basic': \"waiting\", 'subordinate': \"waiting_07\" , 'subset':\"A\", 'cluster': 3, 'object': 7, 'pose': 35, 'target_url': \"https://s3.amazonaws.com/shapenet-graphical-conventions/309674bdec2d24d7597976c675750537.png\",'width': 256, 'height': 256};\n",
    "## subset single example gameID and repeated object (one that we have 8 unique trialNums associated with), and \n",
    "## write this out using `.to_json()` to mock up single trial prototype\n",
    "get_url = {}\n",
    "l = [shapenet_30afd2ef2ed30238aa3d0a2f00b54836,\\\n",
    "    shapenet_30dc9d9cfbc01e19950c1f85d919ebc2,\\\n",
    "    shapenet_4c1777173111f2e380a88936375f2ef4,\\\n",
    "    shapenet_3466b6ecd040e252c215f685ba622927,\\\n",
    "    shapenet_38f87e02e850d3bd1d5ccc40b510e4bd,\\\n",
    "    shapenet_3cf6db91f872d26c222659d33fd79709,\\\n",
    "    shapenet_3d7ebe5de86294b3f6bcd046624c43c9,\\\n",
    "    shapenet_56262eebe592b085d319c38340319ae4,\\\n",
    "    shapenet_1d1641362ad5a34ac3bd24f986301745,\\\n",
    "    shapenet_1da9942b2ab7082b2ba1fdc12ecb5c9e,\\\n",
    "    shapenet_2448d9aeda5bb9b0f4b6538438a0b930,\\\n",
    "    shapenet_23b0da45f23e5fb4f4b6538438a0b930,\\\n",
    "    shapenet_2b5953c986dd08f2f91663a74ccd2338,\\\n",
    "    shapenet_2e291f35746e94fa62762c7262e78952,\\\n",
    "    shapenet_2eaab78d6e4c4f2d7b0c85d2effc7e09,\\\n",
    "    shapenet_309674bdec2d24d7597976c675750537]\n",
    "\n",
    "for row in l:\n",
    "    get_url[row['subordinate']] = row['target_url']\n",
    "\n",
    "M['target_url'] = M.apply(lambda x: get_url[x['target']], axis = 1)"
   ]
  },
  {
   "cell_type": "code",
   "execution_count": 75,
   "metadata": {},
   "outputs": [
    {
     "name": "stdout",
     "output_type": "stream",
     "text": [
      "Sanity Check Passed!\n"
     ]
    }
   ],
   "source": [
    "#Sanity Check for the data and find the ones that are repeated\n",
    " #dataframe\n",
    "num_freq = {}\n",
    "for i, group in M.groupby(['gameID','target']):\n",
    "    num = len(set(list(group.trialNum)))\n",
    "    if num not in num_freq:\n",
    "        num_freq[num] = 1\n",
    "    else:\n",
    "        num_freq[num] +=1\n",
    "    \n",
    "assert list(num_freq.keys()) == [2,8]\n",
    "print(\"Sanity Check Passed!\")"
   ]
  },
  {
   "cell_type": "markdown",
   "metadata": {},
   "source": [
    "## ADD history to dataframe"
   ]
  },
  {
   "cell_type": "code",
   "execution_count": 42,
   "metadata": {},
   "outputs": [
    {
     "name": "stdout",
     "output_type": "stream",
     "text": [
      "control\n",
      "control\n",
      "control\n",
      "control\n",
      "repeated\n",
      "                                        gameID  trialNum condition  \\\n",
      "686  0055-b8f4d6a3-ff78-4051-bd88-0fb01a2f5764         7  repeated   \n",
      "691  0055-b8f4d6a3-ff78-4051-bd88-0fb01a2f5764        12  repeated   \n",
      "695  0055-b8f4d6a3-ff78-4051-bd88-0fb01a2f5764        16  repeated   \n",
      "698  0055-b8f4d6a3-ff78-4051-bd88-0fb01a2f5764        19  repeated   \n",
      "701  0055-b8f4d6a3-ff78-4051-bd88-0fb01a2f5764        22  repeated   \n",
      "707  0055-b8f4d6a3-ff78-4051-bd88-0fb01a2f5764        28  repeated   \n",
      "710  0055-b8f4d6a3-ff78-4051-bd88-0fb01a2f5764        31  repeated   \n",
      "718  0055-b8f4d6a3-ff78-4051-bd88-0fb01a2f5764        39  repeated   \n",
      "\n",
      "         target category  repetition     phase generalization  drawDuration  \\\n",
      "686  waiting_00  waiting           0       pre        between         8.813   \n",
      "691  waiting_00  waiting           1  repeated        between        10.062   \n",
      "695  waiting_00  waiting           2  repeated        between         8.735   \n",
      "698  waiting_00  waiting           3  repeated        between         7.971   \n",
      "701  waiting_00  waiting           4  repeated        between         9.035   \n",
      "707  waiting_00  waiting           5  repeated        between         8.170   \n",
      "710  waiting_00  waiting           6  repeated        between         7.567   \n",
      "718  waiting_00  waiting           7      post        between         7.660   \n",
      "\n",
      "     outcome                        ...                         subset  \\\n",
      "686    False                        ...                              A   \n",
      "691     True                        ...                              A   \n",
      "695     True                        ...                              A   \n",
      "698     True                        ...                              A   \n",
      "701     True                        ...                              A   \n",
      "707     True                        ...                              A   \n",
      "710     True                        ...                              A   \n",
      "718     True                        ...                              A   \n",
      "\n",
      "     low_acc  category_subset  category_subset_condition  crazy  recog_id  \\\n",
      "686    False         waitingA           waitingArepeated  False        71   \n",
      "691    False         waitingA           waitingArepeated  False        75   \n",
      "695    False         waitingA           waitingArepeated  False        79   \n",
      "698    False         waitingA           waitingArepeated  False        83   \n",
      "701    False         waitingA           waitingArepeated  False        87   \n",
      "707    False         waitingA           waitingArepeated  False        91   \n",
      "710    False         waitingA           waitingArepeated  False        95   \n",
      "718    False         waitingA           waitingArepeated  False        99   \n",
      "\n",
      "                      target_shapenet  \\\n",
      "686  1d1641362ad5a34ac3bd24f986301745   \n",
      "691  1d1641362ad5a34ac3bd24f986301745   \n",
      "695  1d1641362ad5a34ac3bd24f986301745   \n",
      "698  1d1641362ad5a34ac3bd24f986301745   \n",
      "701  1d1641362ad5a34ac3bd24f986301745   \n",
      "707  1d1641362ad5a34ac3bd24f986301745   \n",
      "710  1d1641362ad5a34ac3bd24f986301745   \n",
      "718  1d1641362ad5a34ac3bd24f986301745   \n",
      "\n",
      "                                           distractors  \\\n",
      "686  {'distractor1': 'waiting_06', 'distractor2': '...   \n",
      "691  {'distractor1': 'waiting_06', 'distractor2': '...   \n",
      "695  {'distractor1': 'waiting_06', 'distractor2': '...   \n",
      "698  {'distractor1': 'waiting_06', 'distractor2': '...   \n",
      "701  {'distractor1': 'waiting_06', 'distractor2': '...   \n",
      "707  {'distractor1': 'waiting_06', 'distractor2': '...   \n",
      "710  {'distractor1': 'waiting_06', 'distractor2': '...   \n",
      "718  {'distractor1': 'waiting_06', 'distractor2': '...   \n",
      "\n",
      "                                  distractors_shapenet  \\\n",
      "686  {'distractor1': '2eaab78d6e4c4f2d7b0c85d2effc7...   \n",
      "691  {'distractor1': '2eaab78d6e4c4f2d7b0c85d2effc7...   \n",
      "695  {'distractor1': '2eaab78d6e4c4f2d7b0c85d2effc7...   \n",
      "698  {'distractor1': '2eaab78d6e4c4f2d7b0c85d2effc7...   \n",
      "701  {'distractor1': '2eaab78d6e4c4f2d7b0c85d2effc7...   \n",
      "707  {'distractor1': '2eaab78d6e4c4f2d7b0c85d2effc7...   \n",
      "710  {'distractor1': '2eaab78d6e4c4f2d7b0c85d2effc7...   \n",
      "718  {'distractor1': '2eaab78d6e4c4f2d7b0c85d2effc7...   \n",
      "\n",
      "                                            target_url  \n",
      "686  https://s3.amazonaws.com/shapenet-graphical-co...  \n",
      "691  https://s3.amazonaws.com/shapenet-graphical-co...  \n",
      "695  https://s3.amazonaws.com/shapenet-graphical-co...  \n",
      "698  https://s3.amazonaws.com/shapenet-graphical-co...  \n",
      "701  https://s3.amazonaws.com/shapenet-graphical-co...  \n",
      "707  https://s3.amazonaws.com/shapenet-graphical-co...  \n",
      "710  https://s3.amazonaws.com/shapenet-graphical-co...  \n",
      "718  https://s3.amazonaws.com/shapenet-graphical-co...  \n",
      "\n",
      "[8 rows x 28 columns]\n"
     ]
    }
   ],
   "source": []
  },
  {
   "cell_type": "code",
   "execution_count": 30,
   "metadata": {},
   "outputs": [],
   "source": [
    "M['parts'] = M.apply(lambda x: {\"armrest\":[], \"legs\": [\"front-left leg\", \"front-right leg\", \"back-left leg\", \"back-right leg\"]}, axis = 1)\n",
    "M.to_csv('./graphical_conventions_group_data_run5_submitButton_with_TargetURL.csv')"
   ]
  },
  {
   "cell_type": "markdown",
   "metadata": {},
   "source": [
    "## Decode the pngString to images"
   ]
  },
  {
   "cell_type": "code",
   "execution_count": 21,
   "metadata": {},
   "outputs": [
    {
     "name": "stdout",
     "output_type": "stream",
     "text": [
      "Directory  /Users/yiyang/project/semantic_parts_v2/data/pngs  already exists\n"
     ]
    }
   ],
   "source": [
    "import base64\n",
    "pngPath = os.path.join(path_to_stim, 'pngs')\n",
    "\n",
    "if not os.path.exists(pngPath):\n",
    "    os.mkdir(pngPath)\n",
    "    print(\"Directory \" , pngPath ,  \" Created \")\n",
    "else:    \n",
    "    print(\"Directory \" , pngPath ,  \" already exists\")\n",
    "    \n",
    "for index, row in M.iterrows():\n",
    "    g = row['gameID']\n",
    "    l = row['target']\n",
    "    r = row['repetition']\n",
    "    t = row['trialNum']\n",
    "    c = row['condition']\n",
    "    s = 'both'\n",
    "    e = 'graphical-convention'\n",
    "    this_fname = '{}_{}_{}_{}_{}_{}_{}'.format(g,l,r,t,c,s,e)\n",
    "    \n",
    "    fh = open(os.path.join(pngPath,this_fname), \"wb\")\n",
    "    #png = row.png.encode()\n",
    "    imgdata = base64.b64decode(row.png)\n",
    "    fh.write(imgdata)\n",
    "    fh.close()\n",
    "    "
   ]
  },
  {
   "cell_type": "markdown",
   "metadata": {},
   "source": [
    "## Renders the svg to pngs"
   ]
  },
  {
   "cell_type": "code",
   "execution_count": 76,
   "metadata": {},
   "outputs": [
    {
     "data": {
      "text/plain": [
       "<module 'rendering_helpers' from '/Users/yiyang/project/semantic_parts_v2/data/rendering_helpers.py'>"
      ]
     },
     "execution_count": 76,
     "metadata": {},
     "output_type": "execute_result"
    }
   ],
   "source": [
    "import rendering_helpers as srh\n",
    "\n",
    "## extract sketch identifying info\n",
    "gseries = M['gameID'].map(str)\n",
    "nseries = M['trialNum'].map(str).apply(lambda x: x.zfill(2))\n",
    "rseries = M['repetition'].map(str).apply(lambda x: x.zfill(2))\n",
    "tseries = M['target'].map(str)\n",
    "\n",
    "## build list of image filenames\n",
    "fname_list = ['{}_{}_{}'.format(i,j,k) for (i,j,k) in zip(gseries,rseries,tseries)]\n",
    "\n",
    "## convert svg string strings into svg string list\n",
    "svg_string_list = [ast.literal_eval(i) for i in M.svgString.values]\n",
    "## render out svg & convert to png\n",
    "reload(srh)"
   ]
  },
  {
   "cell_type": "code",
   "execution_count": 77,
   "metadata": {},
   "outputs": [
    {
     "name": "stdout",
     "output_type": "stream",
     "text": [
      "convert /Users/yiyang/project/semantic_parts_v2/sketches/svg/6225-fa50e13d-b205-4a00-b12a-493b412627af_05_waiting_03.svg /Users/yiyang/project/semantic_parts_v2/sketches/png/6225-fa50e13d-b205-4a00-b12a-493b412627af_05_waiting_03.png\n"
     ]
    }
   ],
   "source": [
    "reallyRun = 0\n",
    "i = 0\n",
    "tot = len(M)\n",
    "if reallyRun:\n",
    "    for this_fname,this_svg in zip(fname_list,svg_string_list):    \n",
    "        srh.render_svg(this_svg,base_dir=sketch_dir,out_fname= '{}.svg'.format(this_fname))    \n",
    "        clear_output(wait=True)\n",
    "        print(i, \"out of: \", tot)\n",
    "        i+=1\n",
    "        \n",
    "        \n",
    "    ## get svg path list for rendered out svg\n",
    "    svg_paths = srh.generate_svg_path_list(os.path.join(sketch_dir,'svg'))    \n",
    "    \n",
    "    ## convert all svg to png\n",
    "    srh.svg_to_png(svg_paths,base_dir=sketch_dir)"
   ]
  },
  {
   "cell_type": "markdown",
   "metadata": {},
   "source": [
    "## Upload to AWS"
   ]
  },
  {
   "cell_type": "code",
   "execution_count": 81,
   "metadata": {},
   "outputs": [],
   "source": [
    "import boto\n",
    "bucket_name = 'graphical-conventions-sketches'\n",
    "path_to_png = os.path.join(sketch_dir,'png')\n",
    "runThis = 0\n",
    "if runThis:\n",
    "    conn = boto.connect_s3()\n",
    "    b = conn.create_bucket(bucket_name) ### if bucket already exists, then get_bucket, else create_bucket\n",
    "    for ind,im in enumerate(os.listdir(path_to_png)):\n",
    "        if im[-3:]=='png':\n",
    "            print (ind, im)\n",
    "            k = b.new_key(im)\n",
    "            k.set_contents_from_filename(os.path.join(path_to_png,im))\n",
    "            k.set_acl('public-read')\n",
    "            clear_output(wait=True)"
   ]
  },
  {
   "cell_type": "markdown",
   "metadata": {},
   "source": [
    "## Add history to dataframe"
   ]
  },
  {
   "cell_type": "code",
   "execution_count": null,
   "metadata": {},
   "outputs": [],
   "source": [
    "for i, group in M.groupby(['gameID','target']):\n",
    "    print(group.iloc[0].condition)\n",
    "    if group.iloc[0].condition == \"control\":\n",
    "        continue\n",
    "    print(group)\n",
    "    break\n"
   ]
  }
 ],
 "metadata": {
  "kernelspec": {
   "display_name": "Python 3",
   "language": "python",
   "name": "python3"
  },
  "language_info": {
   "codemirror_mode": {
    "name": "ipython",
    "version": 3
   },
   "file_extension": ".py",
   "mimetype": "text/x-python",
   "name": "python",
   "nbconvert_exporter": "python",
   "pygments_lexer": "ipython3",
   "version": "3.6.5"
  }
 },
 "nbformat": 4,
 "nbformat_minor": 2
}
