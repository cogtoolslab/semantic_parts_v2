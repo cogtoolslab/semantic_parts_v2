{
 "cells": [
  {
   "cell_type": "code",
   "execution_count": 16,
   "metadata": {},
   "outputs": [],
   "source": [
    "import pymongo as pm\n",
    "import pandas as pd\n",
    "import json\n",
    "from IPython.display import clear_output"
   ]
  },
  {
   "cell_type": "markdown",
   "metadata": {},
   "source": [
    "## Connect to MongoDB"
   ]
  },
  {
   "cell_type": "code",
   "execution_count": 17,
   "metadata": {},
   "outputs": [],
   "source": [
    "# set vars \n",
    "auth = pd.read_csv('auth.txt', header = None) # this auth.txt file contains the password for the sketchloop user\n",
    "pswd = auth.values[0][0]\n",
    "user = 'sketchloop'\n",
    "host = 'cogtoolslab.org' ## cocolab ip address\n",
    "\n",
    "conn = pm.MongoClient('mongodb://sketchloop:' + pswd + '@127.0.0.1')\n",
    "db = conn['stimuli']"
   ]
  },
  {
   "cell_type": "code",
   "execution_count": 5,
   "metadata": {},
   "outputs": [],
   "source": [
    "if 'semantic_parts_graphical_conventions' in db.list_collection_names():\n",
    "    coll = db['semantic_parts_graphical_conventions']\n",
    "    coll.drop()\n",
    "coll = db['semantic_parts_graphical_conventions']\n",
    "\n",
    "#DB = stimuli\n",
    "#COLL = semantic_parts_graphical_conventions"
   ]
  },
  {
   "cell_type": "markdown",
   "metadata": {},
   "source": [
    "## Read in csv file and insert into database"
   ]
  },
  {
   "cell_type": "code",
   "execution_count": 6,
   "metadata": {},
   "outputs": [],
   "source": [
    "file_path = 'graphical_conventions_group_data_run5_submitButton_with_TargetURL.csv'\n",
    "x = pd.read_csv(file_path)\n",
    "\n",
    "## convert to json\n",
    "y = x.to_json(orient='records')\n",
    "z = json.loads(y)"
   ]
  },
  {
   "cell_type": "code",
   "execution_count": 7,
   "metadata": {},
   "outputs": [
    {
     "name": "stdout",
     "output_type": "stream",
     "text": [
      "Inserted 2599 records.\n"
     ]
    }
   ],
   "source": [
    "## loop through list of records and insert each into collection\n",
    "reallyRun = 1\n",
    "if reallyRun:\n",
    "    for i,_z in enumerate(z):\n",
    "        coll.insert_one(_z)\n",
    "        print('Inserted {} records.'.format(i))\n",
    "        clear_output(wait=True)\n",
    "else:\n",
    "    print('Did not insert any new data.')"
   ]
  },
  {
   "cell_type": "markdown",
   "metadata": {},
   "source": [
    "## inspect & validate collection (to make sure records look right)¶"
   ]
  },
  {
   "cell_type": "code",
   "execution_count": 8,
   "metadata": {},
   "outputs": [
    {
     "name": "stdout",
     "output_type": "stream",
     "text": [
      "There are 2600 records in this collection.\n"
     ]
    },
    {
     "name": "stderr",
     "output_type": "stream",
     "text": [
      "/anaconda3/lib/python3.6/site-packages/ipykernel_launcher.py:1: DeprecationWarning: count is deprecated. Use estimated_document_count or count_documents instead. Please note that $where must be replaced by $expr, $near must be replaced by $geoWithin with $center, and $nearSphere must be replaced by $geoWithin with $centerSphere\n",
      "  \"\"\"Entry point for launching an IPython kernel.\n"
     ]
    }
   ],
   "source": [
    "print('There are {} records in this collection.'.format(coll.count()))"
   ]
  },
  {
   "cell_type": "code",
   "execution_count": 9,
   "metadata": {},
   "outputs": [
    {
     "data": {
      "text/plain": [
       "{'Unnamed: 0': 0,\n",
       " 'gameID': '4071-d4fa2274-0805-41c8-8ebc-819ddc2b5c56',\n",
       " 'trialNum': 1,\n",
       " 'condition': 'control',\n",
       " 'target': 'waiting_01',\n",
       " 'category': 'waiting',\n",
       " 'repetition': 0,\n",
       " 'phase': 'pre',\n",
       " 'generalization': 'between',\n",
       " 'drawDuration': 13.586,\n",
       " 'outcome': True,\n",
       " 'response': 'waiting_01',\n",
       " 'numStrokes': 6.0,\n",
       " 'meanPixelIntensity': 0.0303,\n",
       " 'numCurvesPerSketch': 15.0,\n",
       " 'numCurvesPerStroke': 2.5,\n",
       " 'timedOut': False,\n",
       " 'svgString': \"[u'M94,107c0,-2.90836 -3.18308,-6.36617 -4,-8c-1.38042,-2.76085 0,-9.95701 0,-13c0,-24.1259 10.50002,-29.87501 31,-35c9.91797,-2.47949 24.79375,-1.47083 33,4c2.07975,1.3865 22.26453,30.73547 18,35c-9.87976,9.87976 -32.94194,5.70646 -44,14c-7.44641,5.58481 -22.46578,11 -31,11', u'M98,114c0,8.6585 28.51173,84.51173 34,90', u'M170,93c0,29.71717 33,65.95957 33,95', u'M106,153c0,14.46132 -8,27.1461 -8,42', u'M112,151c0,-6.62515 59.36688,-36 66,-36', u'M110,155c9.47907,0 10.28634,15.23789 20,12c5.71058,-1.90353 51.17712,-24.17712 55,-28c1.80221,-1.80221 -1.14366,-4.14366 -2,-5c-2.22778,-2.22778 -2.58962,-7 -7,-7']\",\n",
       " 'subset': 'A',\n",
       " 'low_acc': False,\n",
       " 'category_subset': 'waitingA',\n",
       " 'category_subset_condition': 'waitingAcontrol',\n",
       " 'crazy': False,\n",
       " 'recog_id': 32,\n",
       " 'target_shapenet': '1da9942b2ab7082b2ba1fdc12ecb5c9e',\n",
       " 'distractors': \"{'distractor1': 'waiting_06', 'distractor2': 'waiting_07', 'distractor3': 'waiting_00'}\",\n",
       " 'distractors_shapenet': \"{'distractor1': '2eaab78d6e4c4f2d7b0c85d2effc7e09', 'distractor2': '309674bdec2d24d7597976c675750537', 'distractor3': '1d1641362ad5a34ac3bd24f986301745'}\",\n",
       " 'target_url': 'https://s3.amazonaws.com/shapenet-graphical-conventions/1da9942b2ab7082b2ba1fdc12ecb5c9e.png',\n",
       " 'parts': \"{'armrest': [], 'legs': ['front-left leg', 'front-right leg', 'back-left leg', 'back-right leg']}\",\n",
       " '_id': ObjectId('5db35be9d49a7ca3790db4b2')}"
      ]
     },
     "execution_count": 9,
     "metadata": {},
     "output_type": "execute_result"
    }
   ],
   "source": [
    "z[0]"
   ]
  },
  {
   "cell_type": "markdown",
   "metadata": {},
   "source": [
    "## Visualize the structure"
   ]
  },
  {
   "cell_type": "code",
   "execution_count": null,
   "metadata": {},
   "outputs": [],
   "source": [
    "import networkx as nx\n",
    "import matplotlib.pyplot as plt\n",
    "from networkx.drawing.nx_agraph import write_dot, graphviz_layout\n",
    "\n",
    "f = plt.figure(figsize = ((24,24)))\n",
    "G = nx.Graph()\n",
    "f = open(\"Chair.txt\", \"r\")\n",
    "\n",
    "edges = set()\n",
    "\n",
    "mapping = {}\n",
    "for line in f:\n",
    "    path = line.split(' ')[1]\n",
    "    edge = path.split('/')\n",
    "    \n",
    "    for i in range (0 ,len (edge)-1):\n",
    "        one = '/'.join(edge[:i+1])\n",
    "        two = '/'.join(edge[:i+2])\n",
    "        edges.add((one,two))\n",
    "        mapping[one] = one.split('/')[-1]\n",
    "        mapping[two] = two.split('/')[-1]\n",
    "    \n",
    "for i, j in edges:\n",
    "    G.add_edge(i,j)\n",
    "\n",
    "\n",
    "nx.draw(G,labels = mapping)\n",
    "\n",
    "plt.show()"
   ]
  },
  {
   "cell_type": "code",
   "execution_count": null,
   "metadata": {},
   "outputs": [],
   "source": []
  }
 ],
 "metadata": {
  "kernelspec": {
   "display_name": "Python 3",
   "language": "python",
   "name": "python3"
  },
  "language_info": {
   "codemirror_mode": {
    "name": "ipython",
    "version": 3
   },
   "file_extension": ".py",
   "mimetype": "text/x-python",
   "name": "python",
   "nbconvert_exporter": "python",
   "pygments_lexer": "ipython3",
   "version": "3.6.5"
  }
 },
 "nbformat": 4,
 "nbformat_minor": 2
}
